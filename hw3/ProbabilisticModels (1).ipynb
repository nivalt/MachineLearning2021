{
 "cells": [
  {
   "cell_type": "markdown",
   "metadata": {
    "id": "KkqdwZcO97qw",
    "pycharm": {
     "name": "#%% md\n"
    }
   },
   "source": [
    "# Exercise 3: MAP Classifier\n",
    "\n",
    "In this assignment you will implement Baysian learning\n",
    "\n",
    "## Read the following instructions carefully:\n",
    "\n",
    "1. This jupyter notebook contains all the step by step instructions needed for this part of the exercise.\n",
    "2. Write vectorized code whenever possible.\n",
    "3. You are responsible for the correctness of your code and should add as many tests as you see fit. Tests will not be graded nor checked.\n",
    "4. Write your functions in this notebook only.\n",
    "5. You are allowed to use functions and methods from the [Python Standard Library](https://docs.python.org/3/library/) and [numpy](https://www.numpy.org/devdocs/reference/) only. \n",
    "6. Your code must run without errors. During the environment setup, you were given a specific version of `numpy` to install. Changes of the configuration we provided are at your own risk. Code that cannot run will also earn you the grade of 0.\n",
    "7. Write your own code. Cheating will not be tolerated. \n",
    "8. Submission includes this notebook and the answers to the theoretical part. Answers to qualitative questions should be written in markdown cells (with $\\LaTeX$ support).\n",
    "9. You can add additional functions.\n",
    "10. Submission: zip only the completed jupyter notebook and the PDF with your solution for the theory part. Do not include the data or any directories. Name the file `ID1_ID2.zip` and submit **only one copy of the assignment**.\n",
    "\n",
    "## In this exercise you will perform the following:\n",
    "1. Uderstand Conditional Independence concept \n",
    "1. Implement density estimation using MLE\n",
    "1. Implement a Naive Bayes Classifier based on Uni-Normal distribution\n",
    "1. Implement a Full Bayes Classifier based on Multi-Normal distribution\n",
    "1. Implement a Discrete Naive Bayes Classifier"
   ]
  },
  {
   "cell_type": "code",
   "execution_count": 168,
   "metadata": {
    "executionInfo": {
     "elapsed": 596,
     "status": "ok",
     "timestamp": 1649263726391,
     "user": {
      "displayName": "Yarden Rachamim",
      "userId": "05474227465087296318"
     },
     "user_tz": -180
    },
    "id": "S7n52AXs97q6",
    "pycharm": {
     "name": "#%%\n"
    }
   },
   "outputs": [],
   "source": [
    "import numpy as np\n",
    "import pandas as pd\n",
    "import matplotlib.pyplot as plt"
   ]
  },
  {
   "cell_type": "markdown",
   "metadata": {
    "id": "wIlV22zUVJ7p",
    "pycharm": {
     "name": "#%% md\n"
    }
   },
   "source": [
    "# Conditional independence  \n",
    "Define 3 random variables (RV) $X, Y, C$ s.t.:  \n",
    "1. $X, Y$ and $C$ are all binary\n",
    "2. The following conditions hold:  \n",
    "    * P(X=0) = 0.3\n",
    "    * P(Y=0) = 0.3\n",
    "    * P(C=0) = 0.5\n",
    "3. $X$ and $Y$ are not independent\n",
    "4. $X$ and $Y$ are conditionaly independent given $C$ $(X \\perp\\!\\!\\!\\perp Y |C)$\n",
    "\n",
    "In order to define those RV you need to fill the distributions (represent as python dictionaries) below\n",
    "and then write a function that prove that conditions 3 (`is_X_Y_depndendent`) and 4 (`is_X_Y_given_C_independent`) holds.\n",
    "\n",
    "Rcall that:   \n",
    "1. $P(X|Y) = \\frac{P(X, Y)}{P(Y)}$  \n",
    "2. $P(X, Y|C) = \\frac{P(X, Y, C)}{P(C)}$\n",
    "3. $(X \\perp\\!\\!\\!\\perp Y |C)$   iff  \n",
    "$\\forall x, y,c$: $p(X=x,Y=y|C=c)=p(X=x|C=c)p(Y=y|C=c)$  \n",
    "\n",
    "Make sure that all the probabilities are valid! "
   ]
  },
  {
   "cell_type": "code",
   "execution_count": 169,
   "metadata": {
    "executionInfo": {
     "elapsed": 614,
     "status": "ok",
     "timestamp": 1649263838473,
     "user": {
      "displayName": "Yarden Rachamim",
      "userId": "05474227465087296318"
     },
     "user_tz": -180
    },
    "id": "-K57RiKSbKCi",
    "pycharm": {
     "name": "#%%\n"
    }
   },
   "outputs": [],
   "source": [
    "# You need to fill the None value with valid probabilities\n",
    "X = {0: 0.3, 1: 0.7}  # P(X=x)\n",
    "Y = {0: 0.3, 1: 0.7}  # P(Y=y)\n",
    "C = {0: 0.5, 1: 0.5}  # P(C=c)\n",
    "\n",
    "X_Y = {\n",
    "    (0, 0): 0.09,\n",
    "    (0, 1): 0.21,\n",
    "    (1, 0): 0.2,\n",
    "    (1, 1): 0.5\n",
    "}  # P(X=x, Y=y)\n",
    "\n",
    "X_C = {\n",
    "    (0, 0): 0.15,\n",
    "    (0, 1): 0.15,\n",
    "    (1, 0): 0.35,\n",
    "    (1, 1): 0.35\n",
    "}  # P(X=x, C=y)\n",
    "\n",
    "Y_C = {\n",
    "    (0, 0): 0.15,\n",
    "    (0, 1): 0.15,\n",
    "    (1, 0): 0.35,\n",
    "    (1, 1): 0.35\n",
    "}  # P(Y=y, C=c)\n",
    "\n",
    "X_Y_C = {\n",
    "    (0, 0, 0): 0.045,\n",
    "    (0, 0, 1): 0.045,\n",
    "    (0, 1, 0): 0.105,\n",
    "    (0, 1, 1): 0.105,\n",
    "    (1, 0, 0): 0.105,\n",
    "    (1, 0, 1): 0.105,\n",
    "    (1, 1, 0): 0.245,\n",
    "    (1, 1, 1): 0.245\n",
    "}  # P(X=x, Y=y, C=c)"
   ]
  },
  {
   "cell_type": "code",
   "execution_count": 170,
   "metadata": {
    "executionInfo": {
     "elapsed": 1,
     "status": "ok",
     "timestamp": 1649263839191,
     "user": {
      "displayName": "Yarden Rachamim",
      "userId": "05474227465087296318"
     },
     "user_tz": -180
    },
    "id": "QExLsNKrdegA",
    "pycharm": {
     "name": "#%%\n"
    }
   },
   "outputs": [],
   "source": [
    "# You may assume that X, Y and C have the same support (e.g. they are defined on the same space)\n",
    "# Note: since python suffer from numerical instability you may want to use np.isclose instead of the `==` operator\n",
    "def is_X_Y_depndendent(X, Y, X_Y):\n",
    "    \"\"\"\n",
    "    return True iff X and Y are depndendent\n",
    "    \"\"\"\n",
    "    for x_Element in X:\n",
    "        for y_Element in Y:\n",
    "            if(not np.isclose(X[x_Element], X_Y[tuple((x_Element, y_Element))]/Y[y_Element])):\n",
    "                return True\n",
    "    return False\n",
    "\n",
    "def is_X_Y_given_C_independent(X, Y, C, X_C, Y_C, X_Y_C):\n",
    "    \"\"\"\n",
    "    return True iff X_given_C and Y_given_C are indepndendent\n",
    "    \"\"\"\n",
    "    for x_Element in X:\n",
    "        for y_Element in Y:\n",
    "            for c_Element in C:\n",
    "                checkIndependency = X_C[tuple((x_Element, c_Element))]/C[c_Element] * Y_C[tuple((y_Element, c_Element))]\n",
    "                if(not np.isclose(X_Y_C[tuple((x_Element, y_Element, c_Element))], checkIndependency)):\n",
    "                    return False\n",
    "    return True"
   ]
  },
  {
   "cell_type": "markdown",
   "metadata": {
    "id": "VZJBM6CCAyRB",
    "pycharm": {
     "name": "#%% md\n"
    }
   },
   "source": [
    "# Maximum Likelihood estimation  \n",
    "\n",
    "In probability theory and statistics, the Poisson distribution is a discrete probability distribution that expresses the probability of a given number of events occurring in a fixed interval of time or space if these events occur with a known constant mean rate and independently of the time since the last event.  \n",
    "The paramter of this distribution is the rate of events in that given time interval, annotated $\\lambda$  \n",
    "if $X$~$Pois(\\lambda)$  \n",
    "then $p(X=k|\\lambda) = \\frac{\\lambda^ke^{-\\lambda}}{k!}$  \n",
    "Where $X$ is a RV $\\lambda$ is the rate and $p$ is the pmf\n",
    "\n",
    "Implement the function `poisson_log_pmf`"
   ]
  },
  {
   "cell_type": "code",
   "execution_count": 171,
   "metadata": {
    "id": "ae0FUmlqFPA1",
    "pycharm": {
     "name": "#%%\n"
    }
   },
   "outputs": [],
   "source": [
    "def poisson_log_pmf(k, rate):\n",
    "    \"\"\"\n",
    "    k: A discrete instance\n",
    "    rate: poisson rate parameter (lambda)\n",
    "\n",
    "    return the log pmf value for instance k given the rate\n",
    "    \"\"\"\n",
    "    return (np.power(rate, k) * np.power(np.e, -rate))/np.math.factorial(k)"
   ]
  },
  {
   "cell_type": "markdown",
   "metadata": {
    "id": "weRAiHJxIbuh",
    "pycharm": {
     "name": "#%% md\n"
    }
   },
   "source": [
    "In the file poisson_1000_samples.csv there are 1000 points drawn from some poisson distribution with a fixed paramter $\\lambda$  \n",
    "\n",
    "In the following section you are going to find a rate that maximizes the likelihood function. You will do this in 2 diffrent ways:\n",
    "1. Iterative (`possion_iterative_mle`): given a list of possible rates (`rates`), calculate the log likelihood value for each rate and return the rate that has the maximum value\n",
    "2. Analytic (`possion_analytic_mle`): read the following blog: https://www.statology.org/mle-poisson-distribution/. This blog demonstrate how to derive the MLE of a poisson distribution. Understande the process and implement the function.\n"
   ]
  },
  {
   "cell_type": "code",
   "execution_count": 172,
   "metadata": {
    "colab": {
     "base_uri": "https://localhost:8080/",
     "height": 342
    },
    "executionInfo": {
     "elapsed": 311,
     "status": "error",
     "timestamp": 1649264049923,
     "user": {
      "displayName": "Yarden Rachamim",
      "userId": "05474227465087296318"
     },
     "user_tz": -180
    },
    "id": "14_MylZP-15d",
    "outputId": "014abf33-e03c-4ef7-b787-eb1a00d0815b",
    "pycharm": {
     "name": "#%%\n"
    }
   },
   "outputs": [],
   "source": [
    "poisson_samples = pd.read_csv('data/poisson_1000_samples.csv').values.flatten()\n",
    "rates = np.linspace(1e-20, 20, num=1000)"
   ]
  },
  {
   "cell_type": "code",
   "execution_count": 173,
   "metadata": {
    "executionInfo": {
     "elapsed": 295,
     "status": "ok",
     "timestamp": 1649264030874,
     "user": {
      "displayName": "Yarden Rachamim",
      "userId": "05474227465087296318"
     },
     "user_tz": -180
    },
    "id": "Z8C_qIhKA9ZK",
    "pycharm": {
     "name": "#%%\n"
    }
   },
   "outputs": [],
   "source": [
    "def get_poisson_log_likelihoods(samples, rates):\n",
    "    \"\"\"\n",
    "    samples: set of univariate discrete observations\n",
    "    rates: an iterable of rates to calculate log-likelihood by.\n",
    "\n",
    "    return: 1d numpy array, where each value represent that log-likelihood value of rates[i]\n",
    "    \"\"\"\n",
    "    likelihood = []\n",
    "    for r in rates:\n",
    "        likelihood.append(np.sum([np.log(poisson_log_pmf(x,r)) for x in samples]))\n",
    "    return likelihood\n",
    "\n",
    "\n",
    "def possion_iterative_mle(samples, rates):\n",
    "    \"\"\"\n",
    "    samples: set of univariate discrete observations\n",
    "    rate: a rate to calculate log-likelihood by.\n",
    "\n",
    "    return: the rate that maximizes the likelihood \n",
    "    \"\"\"\n",
    "    rate = 0.\n",
    "    likelihoods = get_poisson_log_likelihoods(samples, rates)\n",
    "    # Your code goes here\n",
    "    rate = rates[np.argmax(likelihoods)]\n",
    "    # End of your code\n",
    "    return rate\n",
    "\n",
    "def possion_analytic_mle(samples):\n",
    "    \"\"\"\n",
    "    samples: set of univariate discrete observations\n",
    "\n",
    "    return: the rate that maximizes the likelihood\n",
    "    \"\"\"\n",
    "    n = np.shape(samples)[0]\n",
    "    rate = np.sum(samples)/n\n",
    "    return rate"
   ]
  },
  {
   "cell_type": "code",
   "execution_count": 174,
   "metadata": {
    "colab": {
     "base_uri": "https://localhost:8080/",
     "height": 245
    },
    "executionInfo": {
     "elapsed": 779,
     "status": "error",
     "timestamp": 1649264034100,
     "user": {
      "displayName": "Yarden Rachamim",
      "userId": "05474227465087296318"
     },
     "user_tz": -180
    },
    "id": "i55OIUH1MIUh",
    "outputId": "b593730f-e29a-4ba0-fd56-0f2a8bc4f29d",
    "pycharm": {
     "name": "#%%\n"
    }
   },
   "outputs": [
    {
     "data": {
      "image/png": "[encoded data removed]",
      "text/plain": [
       "<Figure size 432x288 with 1 Axes>"
      ]
     },
     "metadata": {
      "needs_background": "light"
     },
     "output_type": "display_data"
    }
   ],
   "source": [
    "x = rates\n",
    "y = get_poisson_log_likelihoods(poisson_samples, rates)\n",
    "\n",
    "iterative_rate = possion_iterative_mle(poisson_samples, rates)\n",
    "analytic_rate = possion_analytic_mle(poisson_samples)\n",
    "\n",
    "plt.plot(x, y)\n",
    "plt.axvline(x=iterative_rate, linestyle=':', c='r', label=f\"iterative: {iterative_rate:.2f}\")\n",
    "plt.axvline(x=analytic_rate, linestyle='--', c='g', label=f\"analytic: {analytic_rate:.2f}\")\n",
    "plt.legend()\n",
    "plt.show()"
   ]
  },
  {
   "cell_type": "markdown",
   "metadata": {
    "id": "kL1Y_nmu97q9",
    "pycharm": {
     "name": "#%% md\n"
    }
   },
   "source": [
    "\n",
    "# Normal Naive Bayes Classifier Vs Normal Full Bayes Classifier\n",
    "In the following section we are going to compare 2 models on a given dataset. <br>\n",
    "The 2 classifiers we are going to test are:\n",
    "1. Naive Bayes classifer.<br>\n",
    "1. Full Bayes classifier.<br>\n",
    "Recall that a Naive Bayes classifier makes the following assumption :<br> \n",
    "## $$ p(x_1, x_2, ..., x_n|A_j) = \\Pi p(x_i | A_j) $$\n",
    "But the full Bayes classifier will not make this assumption.<br>"
   ]
  },
  {
   "cell_type": "markdown",
   "metadata": {
    "id": "O4Trl8uU97q-",
    "pycharm": {
     "name": "#%% md\n"
    }
   },
   "source": [
    "### The Data Story"
   ]
  },
  {
   "cell_type": "markdown",
   "metadata": {
    "id": "5Z8oRyIG97rA",
    "pycharm": {
     "name": "#%% md\n"
    }
   },
   "source": [
    "In a faraway land called **Randomistan** there is a rare animal called the **Randomammal**.<br> \n",
    "We have gathered data about this unique animal to help the **randomian** researchers in observing this beast. <br>\n",
    "For a 1000 days straight we have measured the temperature and the humidity in Randomistan and whether the Randomammal was spotted or not. <br>\n",
    "The well known randomian **Bob** is a bit of a lazy researcher so he likes to keep things simple, and so he assumes that the temperature and the humidity are independent given the class. <br>\n",
    "**Alice** on the other hand is a hard working researcher and does not make any assumptions, she's young and is trying to gain some fame in the randomian community.\n",
    "\n",
    "The dataset contains 2 features (**Temperature**, **Humidity**) alongside a binary label (**Spotted**) for each instance.<br>\n",
    "\n",
    "We are going to test 2 different classifiers :\n",
    "* Naive Bayes Classifier (Bob)\n",
    "* Full Bayes Classifier. (Alice)\n",
    "\n",
    "Both of our researchers assume that our features are normally distributed. But while Bob with his Naive classifier will assume that the features are independent, Alice and her Full Bayes classifier will not make this assumption.<br><br>\n",
    "Let's start off by loading the data (train, test) into a pandas dataframe and then converting them\n",
    "into numpy arrays.<br>\n",
    "The datafiles are :\n",
    "- randomammal_train.csv\n",
    "- randomammal_test.csv"
   ]
  },
  {
   "cell_type": "code",
   "execution_count": 175,
   "metadata": {
    "id": "Wml9l2VJ97rB",
    "pycharm": {
     "name": "#%%\n"
    }
   },
   "outputs": [],
   "source": [
    "# Load the train and test set into a pandas dataframe and convert them into a numpy array.\n",
    "# The columns order: ['Temp', 'Humidity', 'Spotted']\n",
    "train_set = pd.read_csv('data/randomammal_train.csv').values\n",
    "test_set = pd.read_csv('data/randomammal_test.csv').values"
   ]
  },
  {
   "cell_type": "markdown",
   "metadata": {
    "id": "R0Smujya97rD",
    "pycharm": {
     "name": "#%% md\n"
    }
   },
   "source": [
    "# Data Visualization\n",
    "Draw a scatter plot of the training data where __x__=Temerature and **y**=Humidity. <br>\n",
    "Use color to distinguish points from different classes.<br>\n",
    "Stop for a minute to think about Alice and Bob's approaches and which one you expect to work better."
   ]
  },
  {
   "cell_type": "code",
   "execution_count": 176,
   "metadata": {
    "id": "e3GuXpOj97rF",
    "pycharm": {
     "name": "#%%\n"
    }
   },
   "outputs": [
    {
     "data": {
      "image/png": "[encoded data removed]",
      "text/plain": [
       "<Figure size 720x576 with 1 Axes>"
      ]
     },
     "metadata": {
      "needs_background": "light"
     },
     "output_type": "display_data"
    }
   ],
   "source": [
    "# Your code goes here.\n",
    "train_class1 = np.array(train_set)[np.where(train_set[:,2] == 1)]\n",
    "train_temperature_1 = train_class1[:,0]\n",
    "train_humidity_1 = train_class1[:,1]\n",
    "\n",
    "train_class0 = np.array(train_set)[np.where(train_set[:,2] == 0)]\n",
    "train_temperature_0 = train_class0[:,0]\n",
    "train_humidity_0 = train_class0[:,1]\n",
    "    \n",
    "plt.figure(figsize=(10,8))\n",
    "\n",
    "plt.xlabel('Temerature')\n",
    "plt.ylabel('Humidity')\n",
    "plt.title('Humidity as a function of temperature')\n",
    "\n",
    "plt.scatter(train_temperature_0, train_humidity_0, label=\"class 0\")\n",
    "plt.scatter(train_temperature_1, train_humidity_1, label=\"class 1\")\n",
    "\n",
    "plt.grid()\n",
    "plt.legend()\n",
    "plt.show()"
   ]
  },
  {
   "cell_type": "markdown",
   "metadata": {
    "id": "mtalzG-N97rG",
    "pycharm": {
     "name": "#%% md\n"
    }
   },
   "source": [
    "## Bob's Naive Model\n",
    "\n",
    "Start with implementing the [normal distribution](https://en.wikipedia.org/wiki/Normal_distribution) probability density function in the next cell: \n",
    "$$ \\frac{1}{\\sqrt{2\\pi \\sigma^2}} \\cdot e ^{-\\frac{(x - \\mu)^2}{2\\sigma^2}} $$\n",
    "Where :\n",
    "* $\\mu$ is the distribution mean.\n",
    "* $\\sigma$ is the distribution standard deviation."
   ]
  },
  {
   "cell_type": "code",
   "execution_count": 177,
   "metadata": {
    "id": "g0MLP1cR_0d-",
    "pycharm": {
     "name": "#%%\n"
    }
   },
   "outputs": [],
   "source": [
    "def normal_pdf(x, mean, std):\n",
    "    \"\"\"\n",
    "    Calculate normal desnity function for a given x, mean and standrad deviation.\n",
    " \n",
    "    Input:\n",
    "    - x: A value we want to compute the distribution for.\n",
    "    - mean: The mean value of the distribution.\n",
    "    - std:  The standard deviation of the distribution.\n",
    " \n",
    "    Returns the normal distribution pdf according to the given mean and std for the given x.    \n",
    "    \"\"\"\n",
    "    # TODO: implement\n",
    "    firstExpression = 1/np.power(2*np.pi*std*std, 0.5)\n",
    "    exponent = np.power(x-mean, 2)/(2*std*std)\n",
    "    secondExpression = np.power(np.e, -exponent)\n",
    "    return firstExpression*secondExpression"
   ]
  },
  {
   "cell_type": "markdown",
   "metadata": {
    "id": "zLQsBEja97rH",
    "pycharm": {
     "name": "#%% md\n"
    }
   },
   "source": [
    "Implement the **NaiveNormalClassDistribution** in the next cell and build a distribution object for each class.\n",
    "Recall that when using the naive assumption, we assume our features are indepenent given the class. Meaning:\n",
    "$$ P(x_1, x_2 | Y) = p(x_1 | Y) \\cdot p(x_2 | Y)$$\n",
    "\n",
    "\n",
    "Since we assume our features are normally distributed we need to find the mean and std for each feature in order for us to compute those probabilites. "
   ]
  },
  {
   "cell_type": "code",
   "execution_count": 195,
   "metadata": {
    "id": "BSJRUYiZ97rI",
    "pycharm": {
     "name": "#%%\n"
    }
   },
   "outputs": [],
   "source": [
    "class NaiveNormalClassDistribution():\n",
    "    def __init__(self, dataset, class_value):\n",
    "        \"\"\"\n",
    "        A class which encapsulates the relevant parameters(mean, std) for a class conditinoal normal distribution.\n",
    "        The mean and std are computed from a given data set.\n",
    "        \n",
    "        Input\n",
    "        - dataset: The dataset as a 2d numpy array, assuming the class label is the last column\n",
    "        - class_value : The class to calculate the parameters for.\n",
    "        \"\"\"\n",
    "        # TODO: implement\n",
    "        self.dataset = dataset\n",
    "        self.class_value = class_value\n",
    "        self.dataset_processed = np.array(dataset)[np.where(dataset[:,-1] == class_value)]\n",
    "        self.mean = self.dataset_processed.mean(axis=0)\n",
    "        self.std = self.dataset_processed.std(axis=0)\n",
    "    \n",
    "    def get_prior(self):\n",
    "        \"\"\"\n",
    "        Returns the prior porbability of the class according to the dataset distribution.\n",
    "        \"\"\"\n",
    "        # TODO: implement\n",
    "        return len(self.dataset_processed)/np.shape(self.dataset)[0]\n",
    "    \n",
    "    def get_instance_likelihood(self, x):\n",
    "        \"\"\"\n",
    "        Returns the likelihhod porbability of the instance under the class according to the dataset distribution.\n",
    "        \"\"\"\n",
    "        # TODO: implement\n",
    "        return np.prod([normal_pdf(x[i], self.mean[i], self.std[i]) for i in range(np.shape(x)[0] - 1)])\n",
    "    \n",
    "    def get_instance_posterior(self, x):\n",
    "        \"\"\"\n",
    "        Returns the posterior porbability of the instance under the class according to the dataset distribution.\n",
    "        * Ignoring p(x)\n",
    "        \"\"\"\n",
    "        # TODO: implement\n",
    "        return self.get_prior * self.get_instance_likelihood(x)"
   ]
  },
  {
   "cell_type": "code",
   "execution_count": 196,
   "metadata": {
    "id": "RDlv-Qu897rK",
    "pycharm": {
     "name": "#%%\n"
    }
   },
   "outputs": [],
   "source": [
    "# Build the a NaiveNormalClassDistribution for each class.\n",
    "naive_normal_CD_0 = NaiveNormalClassDistribution(train_set, 0)\n",
    "naive_normal_CD_1 = NaiveNormalClassDistribution(train_set, 1)"
   ]
  },
  {
   "cell_type": "markdown",
   "metadata": {
    "id": "E3S8TaXg97rK",
    "pycharm": {
     "name": "#%% md\n"
    }
   },
   "source": [
    "Implement the **MAPClassifier** class and build a MAPClassifier object containing the 2 distribution objects you just made above."
   ]
  },
  {
   "cell_type": "code",
   "execution_count": 197,
   "metadata": {
    "id": "fh-E75DE97rL",
    "pycharm": {
     "name": "#%%\n"
    }
   },
   "outputs": [],
   "source": [
    "class MAPClassifier():\n",
    "    def __init__(self, ccd0 , ccd1):\n",
    "        \"\"\"\n",
    "        A Maximum a posteriori classifier. \n",
    "        This class will hold 2 class distributions, one for class 0 and one for class 1, and will predict an instance\n",
    "        by the class that outputs the highest posterior probability for the given instance.\n",
    "    \n",
    "        Input\n",
    "            - ccd0 : An object contating the relevant parameters and methods for the distribution of class 0.\n",
    "            - ccd1 : An object contating the relevant parameters and methods for the distribution of class 1.\n",
    "        \"\"\"\n",
    "        # TODO: implement\n",
    "        self.ccd0 = ccd0\n",
    "        self.ccd1 = ccd1\n",
    "    \n",
    "    def predict(self, x):\n",
    "        \"\"\"\n",
    "        Predicts the instance class using the 2 distribution objects given in the object constructor.\n",
    "    \n",
    "        Input\n",
    "            - An instance to predict.\n",
    "        Output\n",
    "            - 0 if the posterior probability of class 0 is higher and 1 otherwise.\n",
    "        \"\"\"\n",
    "        # TODO: implement\n",
    "        if (self.ccd0.get_instance_posterior(x) > self.ccd1.get_instance_posterior(x)):\n",
    "            return 0\n",
    "        return 1"
   ]
  },
  {
   "cell_type": "code",
   "execution_count": 198,
   "metadata": {
    "id": "yQfcw22U97rL",
    "pycharm": {
     "name": "#%%\n"
    }
   },
   "outputs": [],
   "source": [
    "naive_normal_classifier = MAPClassifier(naive_normal_CD_0, naive_normal_CD_1)"
   ]
  },
  {
   "cell_type": "markdown",
   "metadata": {
    "id": "fK3PKXpf97rM",
    "pycharm": {
     "name": "#%% md\n"
    }
   },
   "source": [
    "### Evaluate model\n",
    "Implement the **compute_accuracy** function in the next cell. Use it and the 2 distribution objects you created to compute the accuracy on the test set."
   ]
  },
  {
   "cell_type": "code",
   "execution_count": 199,
   "metadata": {
    "id": "eA39OpAp97rM",
    "pycharm": {
     "name": "#%%\n"
    }
   },
   "outputs": [],
   "source": [
    "def compute_accuracy(testset, map_classifier):\n",
    "    \"\"\"\n",
    "    Compute the accuracy of a given a testset using a MAP classifier object.\n",
    "    \n",
    "    Input\n",
    "        - testset: The testset for which to compute the accuracy (Numpy array). where the class label is the last column\n",
    "        - map_classifier : A MAPClassifier object capable of prediciting the class for each instance in the testset.\n",
    "        \n",
    "    Ouput\n",
    "        - Accuracy = #Correctly Classified / #testset size\n",
    "    \"\"\"\n",
    "    # TODO: implement\n",
    "    total = 0\n",
    "    for i in testset:\n",
    "        if (map_classifier.predict(i) == i[-1]):\n",
    "            total += 1\n",
    "    return total/ np.shape(testset)[0]"
   ]
  },
  {
   "cell_type": "code",
   "execution_count": 200,
   "metadata": {
    "colab": {
     "base_uri": "https://localhost:8080/"
    },
    "executionInfo": {
     "elapsed": 272,
     "status": "ok",
     "timestamp": 1649236759557,
     "user": {
      "displayName": "Yarden Rachamim",
      "userId": "05474227465087296318"
     },
     "user_tz": -180
    },
    "id": "X-p0Oo2A97rM",
    "outputId": "6ad81ff3-d37a-406a-83dd-0d061ffed43e",
    "pycharm": {
     "name": "#%%\n"
    }
   },
   "outputs": [
    {
     "ename": "TypeError",
     "evalue": "unsupported operand type(s) for *: 'method' and 'float'",
     "output_type": "error",
     "traceback": [
      "\u001B[1;31m---------------------------------------------------------------------------\u001B[0m",
      "\u001B[1;31mTypeError\u001B[0m                                 Traceback (most recent call last)",
      "\u001B[1;32mc:\\Users\\User\\Desktop\\IDC\\year 3\\semester 2\\machine learning\\HW\\3\\hw3\\hw3\\ProbabilisticModels.ipynb Cell 28'\u001B[0m in \u001B[0;36m<cell line: 2>\u001B[1;34m()\u001B[0m\n\u001B[0;32m      <a href='vscode-notebook-cell:/c%3A/Users/User/Desktop/IDC/year%203/semester%202/machine%20learning/HW/3/hw3/hw3/ProbabilisticModels.ipynb#ch0000027?line=0'>1</a>\u001B[0m \u001B[39m# Compute the naive model accuracy and store it in the naive accuracy variable.\u001B[39;00m\n\u001B[1;32m----> <a href='vscode-notebook-cell:/c%3A/Users/User/Desktop/IDC/year%203/semester%202/machine%20learning/HW/3/hw3/hw3/ProbabilisticModels.ipynb#ch0000027?line=1'>2</a>\u001B[0m naive_accuracy \u001B[39m=\u001B[39m compute_accuracy(test_set, naive_normal_classifier)\n\u001B[0;32m      <a href='vscode-notebook-cell:/c%3A/Users/User/Desktop/IDC/year%203/semester%202/machine%20learning/HW/3/hw3/hw3/ProbabilisticModels.ipynb#ch0000027?line=2'>3</a>\u001B[0m naive_accuracy\n",
      "\u001B[1;32mc:\\Users\\User\\Desktop\\IDC\\year 3\\semester 2\\machine learning\\HW\\3\\hw3\\hw3\\ProbabilisticModels.ipynb Cell 27'\u001B[0m in \u001B[0;36mcompute_accuracy\u001B[1;34m(testset, map_classifier)\u001B[0m\n\u001B[0;32m     <a href='vscode-notebook-cell:/c%3A/Users/User/Desktop/IDC/year%203/semester%202/machine%20learning/HW/3/hw3/hw3/ProbabilisticModels.ipynb#ch0000026?line=12'>13</a>\u001B[0m total \u001B[39m=\u001B[39m \u001B[39m0\u001B[39m\n\u001B[0;32m     <a href='vscode-notebook-cell:/c%3A/Users/User/Desktop/IDC/year%203/semester%202/machine%20learning/HW/3/hw3/hw3/ProbabilisticModels.ipynb#ch0000026?line=13'>14</a>\u001B[0m \u001B[39mfor\u001B[39;00m i \u001B[39min\u001B[39;00m testset:\n\u001B[1;32m---> <a href='vscode-notebook-cell:/c%3A/Users/User/Desktop/IDC/year%203/semester%202/machine%20learning/HW/3/hw3/hw3/ProbabilisticModels.ipynb#ch0000026?line=14'>15</a>\u001B[0m     \u001B[39mif\u001B[39;00m (map_classifier\u001B[39m.\u001B[39;49mpredict(i) \u001B[39m==\u001B[39m i[\u001B[39m-\u001B[39m\u001B[39m1\u001B[39m]):\n\u001B[0;32m     <a href='vscode-notebook-cell:/c%3A/Users/User/Desktop/IDC/year%203/semester%202/machine%20learning/HW/3/hw3/hw3/ProbabilisticModels.ipynb#ch0000026?line=15'>16</a>\u001B[0m         total \u001B[39m+\u001B[39m\u001B[39m=\u001B[39m \u001B[39m1\u001B[39m\n\u001B[0;32m     <a href='vscode-notebook-cell:/c%3A/Users/User/Desktop/IDC/year%203/semester%202/machine%20learning/HW/3/hw3/hw3/ProbabilisticModels.ipynb#ch0000026?line=16'>17</a>\u001B[0m \u001B[39mreturn\u001B[39;00m total\u001B[39m/\u001B[39m np\u001B[39m.\u001B[39mshape(testset)[\u001B[39m0\u001B[39m]\n",
      "\u001B[1;32mc:\\Users\\User\\Desktop\\IDC\\year 3\\semester 2\\machine learning\\HW\\3\\hw3\\hw3\\ProbabilisticModels.ipynb Cell 24'\u001B[0m in \u001B[0;36mMAPClassifier.predict\u001B[1;34m(self, x)\u001B[0m\n\u001B[0;32m     <a href='vscode-notebook-cell:/c%3A/Users/User/Desktop/IDC/year%203/semester%202/machine%20learning/HW/3/hw3/hw3/ProbabilisticModels.ipynb#ch0000023?line=16'>17</a>\u001B[0m \u001B[39m\"\"\"\u001B[39;00m\n\u001B[0;32m     <a href='vscode-notebook-cell:/c%3A/Users/User/Desktop/IDC/year%203/semester%202/machine%20learning/HW/3/hw3/hw3/ProbabilisticModels.ipynb#ch0000023?line=17'>18</a>\u001B[0m \u001B[39mPredicts the instance class using the 2 distribution objects given in the object constructor.\u001B[39;00m\n\u001B[0;32m     <a href='vscode-notebook-cell:/c%3A/Users/User/Desktop/IDC/year%203/semester%202/machine%20learning/HW/3/hw3/hw3/ProbabilisticModels.ipynb#ch0000023?line=18'>19</a>\u001B[0m \u001B[39m\u001B[39;00m\n\u001B[1;32m   (...)\u001B[0m\n\u001B[0;32m     <a href='vscode-notebook-cell:/c%3A/Users/User/Desktop/IDC/year%203/semester%202/machine%20learning/HW/3/hw3/hw3/ProbabilisticModels.ipynb#ch0000023?line=22'>23</a>\u001B[0m \u001B[39m    - 0 if the posterior probability of class 0 is higher and 1 otherwise.\u001B[39;00m\n\u001B[0;32m     <a href='vscode-notebook-cell:/c%3A/Users/User/Desktop/IDC/year%203/semester%202/machine%20learning/HW/3/hw3/hw3/ProbabilisticModels.ipynb#ch0000023?line=23'>24</a>\u001B[0m \u001B[39m\"\"\"\u001B[39;00m\n\u001B[0;32m     <a href='vscode-notebook-cell:/c%3A/Users/User/Desktop/IDC/year%203/semester%202/machine%20learning/HW/3/hw3/hw3/ProbabilisticModels.ipynb#ch0000023?line=24'>25</a>\u001B[0m \u001B[39m# TODO: implement\u001B[39;00m\n\u001B[1;32m---> <a href='vscode-notebook-cell:/c%3A/Users/User/Desktop/IDC/year%203/semester%202/machine%20learning/HW/3/hw3/hw3/ProbabilisticModels.ipynb#ch0000023?line=25'>26</a>\u001B[0m \u001B[39mif\u001B[39;00m (\u001B[39mself\u001B[39;49m\u001B[39m.\u001B[39;49mccd0\u001B[39m.\u001B[39;49mget_instance_posterior(x) \u001B[39m>\u001B[39m \u001B[39mself\u001B[39m\u001B[39m.\u001B[39mccd1\u001B[39m.\u001B[39mget_instance_posterior(x)):\n\u001B[0;32m     <a href='vscode-notebook-cell:/c%3A/Users/User/Desktop/IDC/year%203/semester%202/machine%20learning/HW/3/hw3/hw3/ProbabilisticModels.ipynb#ch0000023?line=26'>27</a>\u001B[0m     \u001B[39mreturn\u001B[39;00m \u001B[39m0\u001B[39m\n\u001B[0;32m     <a href='vscode-notebook-cell:/c%3A/Users/User/Desktop/IDC/year%203/semester%202/machine%20learning/HW/3/hw3/hw3/ProbabilisticModels.ipynb#ch0000023?line=27'>28</a>\u001B[0m \u001B[39mreturn\u001B[39;00m \u001B[39m1\u001B[39m\n",
      "\u001B[1;32mc:\\Users\\User\\Desktop\\IDC\\year 3\\semester 2\\machine learning\\HW\\3\\hw3\\hw3\\ProbabilisticModels.ipynb Cell 21'\u001B[0m in \u001B[0;36mNaiveNormalClassDistribution.get_instance_posterior\u001B[1;34m(self, x)\u001B[0m\n\u001B[0;32m     <a href='vscode-notebook-cell:/c%3A/Users/User/Desktop/IDC/year%203/semester%202/machine%20learning/HW/3/hw3/hw3/ProbabilisticModels.ipynb#ch0000020?line=33'>34</a>\u001B[0m \u001B[39m\"\"\"\u001B[39;00m\n\u001B[0;32m     <a href='vscode-notebook-cell:/c%3A/Users/User/Desktop/IDC/year%203/semester%202/machine%20learning/HW/3/hw3/hw3/ProbabilisticModels.ipynb#ch0000020?line=34'>35</a>\u001B[0m \u001B[39mReturns the posterior porbability of the instance under the class according to the dataset distribution.\u001B[39;00m\n\u001B[0;32m     <a href='vscode-notebook-cell:/c%3A/Users/User/Desktop/IDC/year%203/semester%202/machine%20learning/HW/3/hw3/hw3/ProbabilisticModels.ipynb#ch0000020?line=35'>36</a>\u001B[0m \u001B[39m* Ignoring p(x)\u001B[39;00m\n\u001B[0;32m     <a href='vscode-notebook-cell:/c%3A/Users/User/Desktop/IDC/year%203/semester%202/machine%20learning/HW/3/hw3/hw3/ProbabilisticModels.ipynb#ch0000020?line=36'>37</a>\u001B[0m \u001B[39m\"\"\"\u001B[39;00m\n\u001B[0;32m     <a href='vscode-notebook-cell:/c%3A/Users/User/Desktop/IDC/year%203/semester%202/machine%20learning/HW/3/hw3/hw3/ProbabilisticModels.ipynb#ch0000020?line=37'>38</a>\u001B[0m \u001B[39m# TODO: implement\u001B[39;00m\n\u001B[1;32m---> <a href='vscode-notebook-cell:/c%3A/Users/User/Desktop/IDC/year%203/semester%202/machine%20learning/HW/3/hw3/hw3/ProbabilisticModels.ipynb#ch0000020?line=38'>39</a>\u001B[0m \u001B[39mreturn\u001B[39;00m \u001B[39mself\u001B[39;49m\u001B[39m.\u001B[39;49mget_prior \u001B[39m*\u001B[39;49m \u001B[39mself\u001B[39;49m\u001B[39m.\u001B[39;49mget_instance_likelihood(x)\n",
      "\u001B[1;31mTypeError\u001B[0m: unsupported operand type(s) for *: 'method' and 'float'"
     ]
    }
   ],
   "source": [
    "# Compute the naive model accuracy and store it in the naive accuracy variable.\n",
    "naive_accuracy = compute_accuracy(test_set, naive_normal_classifier)\n",
    "naive_accuracy"
   ]
  },
  {
   "cell_type": "markdown",
   "metadata": {
    "id": "2_mGpmGM97rN",
    "pycharm": {
     "name": "#%% md\n"
    }
   },
   "source": [
    "## Alice's Full Model\n",
    "\n",
    "Start with Implementing the [multivariate normal](https://en.wikipedia.org/wiki/Multivariate_normal_distribution) distribution probability density function in the next cell.\n",
    "\n",
    "## $$ (2\\pi)^{-\\frac{d}{2}} det(\\Sigma )^{-\\frac{1}{2}} \\cdot e ^{-\\frac{1}{2}(x-\\mu)^T \\Sigma ^ {-1} (x - \\mu) }$$\n",
    "\n",
    "Where : \n",
    "* $\\mu$ is the distribution mean vector. (length 2 in our case)\n",
    "* $\\Sigma$ Is the distribution covarince matrix. (size 2x2 in our case)"
   ]
  },
  {
   "cell_type": "code",
   "execution_count": null,
   "metadata": {
    "id": "bZTlpgi7Ojal",
    "pycharm": {
     "name": "#%%\n"
    }
   },
   "outputs": [],
   "source": [
    "def multi_normal_pdf(x, mean, cov):\n",
    "    \"\"\"\n",
    "    Calculate multi variable normal desnity function for a given x, mean and covarince matrix.\n",
    " \n",
    "    Input:\n",
    "    - x: A value we want to compute the distribution for.\n",
    "    - mean: The mean vector of the distribution.\n",
    "    - cov:  The covariance matrix of the distribution.\n",
    " \n",
    "    Returns the normal distribution pdf according to the given mean and var for the given x.    \n",
    "    \"\"\"\n",
    "    # TODO: implement\n",
    "    firstExpression = np.power(2*np.pi, -np.shape(mean)[0]/2) * np.power(np.linalg.det(cov), -0.5)\n",
    "    secondExpression = np.power(np.e, -0.5*(x-mean).T @ np.linalg.inv(cov) @ (x-mean))\n",
    "    return firstExpression*secondExpression"
   ]
  },
  {
   "cell_type": "markdown",
   "metadata": {
    "id": "oIo8Ji8Z97rN",
    "pycharm": {
     "name": "#%% md\n"
    }
   },
   "source": [
    "Implement the **MultiNormalClassDistribution** and build a distribution object for each class.\n",
    "\n",
    "In the full bayes model we will not make any simplyfing assumptions, meaning, we will use a multivariate normal distribution. <br>\n",
    "And so, we'll need to compute the mean of each feature and to compute the covariance between the features to build the covariance matrix.\n"
   ]
  },
  {
   "cell_type": "code",
   "execution_count": null,
   "metadata": {
    "id": "rJDo4AeC97rO",
    "pycharm": {
     "name": "#%%\n"
    }
   },
   "outputs": [],
   "source": [
    "class MultiNormalClassDistribution():\n",
    "    def __init__(self, dataset, class_value):\n",
    "        \"\"\"\n",
    "        A class which encapsulate the relevant parameters(mean, cov matrix) for a class conditinoal multi normal distribution.\n",
    "        The mean and cov matrix (You can use np.cov for this!) will be computed from a given data set.\n",
    "        \n",
    "        Input\n",
    "        - dataset: The dataset as a numpy array\n",
    "        - class_value : The class to calculate the parameters for.\n",
    "        \"\"\"\n",
    "        # TODO: implement\n",
    "        self.dataset = dataset\n",
    "        self.class_value = class_value\n",
    "        self.dataset_processed = np.array(dataset)[np.where(dataset[:,-1] == class_value)]\n",
    "        self.dataset_processed_drop = np.delete(self.dataset_processed, -1, 1)\n",
    "        self.mean = self.dataset_processed_drop.mean()\n",
    "        self.cov = np.cov(self.dataset_processed_drop, rowvar=False, bias=True)\n",
    "        \n",
    "    def get_prior(self):\n",
    "        \"\"\"\n",
    "        Returns the prior porbability of the class according to the dataset distribution.\n",
    "        \"\"\"\n",
    "        # TODO: implement\n",
    "        return len(self.dataset_processed_drop)/np.shape(self.dataset)[0]\n",
    "    \n",
    "    def get_instance_likelihood(self, x):\n",
    "        \"\"\"\n",
    "        Returns the likelihood of the instance under the class according to the dataset distribution.\n",
    "        \"\"\"\n",
    "        # TODO: implement\n",
    "        return np.prod([multi_normal_pdf(x[i], self.mean[i], self.cov[i]) for i in range(len(x) - 1)])\n",
    "    \n",
    "    def get_instance_posterior(self, x):\n",
    "        \"\"\"\n",
    "        Returns the posterior porbability of the instance under the class according to the dataset distribution.\n",
    "        * Ignoring p(x)\n",
    "        \"\"\"\n",
    "        # TODO: implement\n",
    "        return self.get_prior * self.get_instance_likelihood(x)"
   ]
  },
  {
   "cell_type": "code",
   "execution_count": null,
   "metadata": {
    "id": "yRxCmrfI97rO",
    "pycharm": {
     "name": "#%%\n"
    }
   },
   "outputs": [],
   "source": [
    "# Build the a MultiNormalClassDistribution for each class.\n",
    "multi_normal_CD_0 = MultiNormalClassDistribution(train_set, 0)\n",
    "multi_normal_CD_1 = MultiNormalClassDistribution(train_set, 1)"
   ]
  },
  {
   "cell_type": "markdown",
   "metadata": {
    "id": "wMYfYFiF97rO",
    "pycharm": {
     "name": "#%% md\n"
    }
   },
   "source": [
    "build a MAPClassifier object contating the 2 distribution objects you just made above."
   ]
  },
  {
   "cell_type": "code",
   "execution_count": null,
   "metadata": {
    "id": "0dM1VNHn97rP",
    "pycharm": {
     "name": "#%%\n"
    }
   },
   "outputs": [],
   "source": [
    "multi_normal_classifier = MAPClassifier(multi_normal_CD_0, multi_normal_CD_1)"
   ]
  },
  {
   "cell_type": "markdown",
   "metadata": {
    "id": "_fmTzieM97rP",
    "pycharm": {
     "name": "#%% md\n"
    }
   },
   "source": [
    "### Evaluate model\n",
    "Use the **compute_accuracy** function and the 2 distribution objects you created to compute the accuracy on the test set."
   ]
  },
  {
   "cell_type": "code",
   "execution_count": null,
   "metadata": {
    "colab": {
     "base_uri": "https://localhost:8080/"
    },
    "executionInfo": {
     "elapsed": 401,
     "status": "ok",
     "timestamp": 1649238247985,
     "user": {
      "displayName": "Yarden Rachamim",
      "userId": "05474227465087296318"
     },
     "user_tz": -180
    },
    "id": "9Ihutafq97rP",
    "outputId": "9ba3c303-f2e1-44b5-f780-df7896cc5584",
    "pycharm": {
     "name": "#%%\n"
    }
   },
   "outputs": [
    {
     "ename": "IndexError",
     "evalue": "invalid index to scalar variable.",
     "output_type": "error",
     "traceback": [
      "\u001B[1;31m---------------------------------------------------------------------------\u001B[0m",
      "\u001B[1;31mIndexError\u001B[0m                                Traceback (most recent call last)",
      "\u001B[1;32mc:\\Users\\User\\Desktop\\IDC\\year 3\\semester 2\\machine learning\\HW\\3\\hw3\\hw3\\ProbabilisticModels.ipynb Cell 37'\u001B[0m in \u001B[0;36m<cell line: 2>\u001B[1;34m()\u001B[0m\n\u001B[0;32m      <a href='vscode-notebook-cell:/c%3A/Users/User/Desktop/IDC/year%203/semester%202/machine%20learning/HW/3/hw3/hw3/ProbabilisticModels.ipynb#ch0000036?line=0'>1</a>\u001B[0m \u001B[39m# Compute the naive model accuracy and store it in the naive accuracy variable.\u001B[39;00m\n\u001B[1;32m----> <a href='vscode-notebook-cell:/c%3A/Users/User/Desktop/IDC/year%203/semester%202/machine%20learning/HW/3/hw3/hw3/ProbabilisticModels.ipynb#ch0000036?line=1'>2</a>\u001B[0m full_accuracy \u001B[39m=\u001B[39m compute_accuracy(test_set, multi_normal_classifier)\n\u001B[0;32m      <a href='vscode-notebook-cell:/c%3A/Users/User/Desktop/IDC/year%203/semester%202/machine%20learning/HW/3/hw3/hw3/ProbabilisticModels.ipynb#ch0000036?line=2'>3</a>\u001B[0m \u001B[39mprint\u001B[39m(full_accuracy)\n",
      "\u001B[1;32mc:\\Users\\User\\Desktop\\IDC\\year 3\\semester 2\\machine learning\\HW\\3\\hw3\\hw3\\ProbabilisticModels.ipynb Cell 27'\u001B[0m in \u001B[0;36mcompute_accuracy\u001B[1;34m(testset, map_classifier)\u001B[0m\n\u001B[0;32m     <a href='vscode-notebook-cell:/c%3A/Users/User/Desktop/IDC/year%203/semester%202/machine%20learning/HW/3/hw3/hw3/ProbabilisticModels.ipynb#ch0000026?line=12'>13</a>\u001B[0m total \u001B[39m=\u001B[39m \u001B[39m0\u001B[39m\n\u001B[0;32m     <a href='vscode-notebook-cell:/c%3A/Users/User/Desktop/IDC/year%203/semester%202/machine%20learning/HW/3/hw3/hw3/ProbabilisticModels.ipynb#ch0000026?line=13'>14</a>\u001B[0m \u001B[39mfor\u001B[39;00m i \u001B[39min\u001B[39;00m testset:\n\u001B[1;32m---> <a href='vscode-notebook-cell:/c%3A/Users/User/Desktop/IDC/year%203/semester%202/machine%20learning/HW/3/hw3/hw3/ProbabilisticModels.ipynb#ch0000026?line=14'>15</a>\u001B[0m     \u001B[39mif\u001B[39;00m (map_classifier\u001B[39m.\u001B[39;49mpredict(i) \u001B[39m==\u001B[39m i[\u001B[39m-\u001B[39m\u001B[39m1\u001B[39m]):\n\u001B[0;32m     <a href='vscode-notebook-cell:/c%3A/Users/User/Desktop/IDC/year%203/semester%202/machine%20learning/HW/3/hw3/hw3/ProbabilisticModels.ipynb#ch0000026?line=15'>16</a>\u001B[0m         total \u001B[39m+\u001B[39m\u001B[39m=\u001B[39m \u001B[39m1\u001B[39m\n\u001B[0;32m     <a href='vscode-notebook-cell:/c%3A/Users/User/Desktop/IDC/year%203/semester%202/machine%20learning/HW/3/hw3/hw3/ProbabilisticModels.ipynb#ch0000026?line=16'>17</a>\u001B[0m \u001B[39mreturn\u001B[39;00m total\u001B[39m/\u001B[39m np\u001B[39m.\u001B[39mshape(testset)[\u001B[39m0\u001B[39m]\n",
      "\u001B[1;32mc:\\Users\\User\\Desktop\\IDC\\year 3\\semester 2\\machine learning\\HW\\3\\hw3\\hw3\\ProbabilisticModels.ipynb Cell 24'\u001B[0m in \u001B[0;36mMAPClassifier.predict\u001B[1;34m(self, x)\u001B[0m\n\u001B[0;32m     <a href='vscode-notebook-cell:/c%3A/Users/User/Desktop/IDC/year%203/semester%202/machine%20learning/HW/3/hw3/hw3/ProbabilisticModels.ipynb#ch0000023?line=16'>17</a>\u001B[0m \u001B[39m\"\"\"\u001B[39;00m\n\u001B[0;32m     <a href='vscode-notebook-cell:/c%3A/Users/User/Desktop/IDC/year%203/semester%202/machine%20learning/HW/3/hw3/hw3/ProbabilisticModels.ipynb#ch0000023?line=17'>18</a>\u001B[0m \u001B[39mPredicts the instance class using the 2 distribution objects given in the object constructor.\u001B[39;00m\n\u001B[0;32m     <a href='vscode-notebook-cell:/c%3A/Users/User/Desktop/IDC/year%203/semester%202/machine%20learning/HW/3/hw3/hw3/ProbabilisticModels.ipynb#ch0000023?line=18'>19</a>\u001B[0m \u001B[39m\u001B[39;00m\n\u001B[1;32m   (...)\u001B[0m\n\u001B[0;32m     <a href='vscode-notebook-cell:/c%3A/Users/User/Desktop/IDC/year%203/semester%202/machine%20learning/HW/3/hw3/hw3/ProbabilisticModels.ipynb#ch0000023?line=22'>23</a>\u001B[0m \u001B[39m    - 0 if the posterior probability of class 0 is higher and 1 otherwise.\u001B[39;00m\n\u001B[0;32m     <a href='vscode-notebook-cell:/c%3A/Users/User/Desktop/IDC/year%203/semester%202/machine%20learning/HW/3/hw3/hw3/ProbabilisticModels.ipynb#ch0000023?line=23'>24</a>\u001B[0m \u001B[39m\"\"\"\u001B[39;00m\n\u001B[0;32m     <a href='vscode-notebook-cell:/c%3A/Users/User/Desktop/IDC/year%203/semester%202/machine%20learning/HW/3/hw3/hw3/ProbabilisticModels.ipynb#ch0000023?line=24'>25</a>\u001B[0m \u001B[39m# TODO: implement\u001B[39;00m\n\u001B[1;32m---> <a href='vscode-notebook-cell:/c%3A/Users/User/Desktop/IDC/year%203/semester%202/machine%20learning/HW/3/hw3/hw3/ProbabilisticModels.ipynb#ch0000023?line=25'>26</a>\u001B[0m \u001B[39mif\u001B[39;00m (\u001B[39mself\u001B[39;49m\u001B[39m.\u001B[39;49mccd0\u001B[39m.\u001B[39;49mget_instance_posterior(x) \u001B[39m>\u001B[39m \u001B[39mself\u001B[39m\u001B[39m.\u001B[39mccd1\u001B[39m.\u001B[39mget_instance_posterior(x)):\n\u001B[0;32m     <a href='vscode-notebook-cell:/c%3A/Users/User/Desktop/IDC/year%203/semester%202/machine%20learning/HW/3/hw3/hw3/ProbabilisticModels.ipynb#ch0000023?line=26'>27</a>\u001B[0m     \u001B[39mreturn\u001B[39;00m \u001B[39m0\u001B[39m\n\u001B[0;32m     <a href='vscode-notebook-cell:/c%3A/Users/User/Desktop/IDC/year%203/semester%202/machine%20learning/HW/3/hw3/hw3/ProbabilisticModels.ipynb#ch0000023?line=27'>28</a>\u001B[0m \u001B[39mreturn\u001B[39;00m \u001B[39m1\u001B[39m\n",
      "\u001B[1;32mc:\\Users\\User\\Desktop\\IDC\\year 3\\semester 2\\machine learning\\HW\\3\\hw3\\hw3\\ProbabilisticModels.ipynb Cell 32'\u001B[0m in \u001B[0;36mMultiNormalClassDistribution.get_instance_posterior\u001B[1;34m(self, x)\u001B[0m\n\u001B[0;32m     <a href='vscode-notebook-cell:/c%3A/Users/User/Desktop/IDC/year%203/semester%202/machine%20learning/HW/3/hw3/hw3/ProbabilisticModels.ipynb#ch0000031?line=33'>34</a>\u001B[0m \u001B[39m\"\"\"\u001B[39;00m\n\u001B[0;32m     <a href='vscode-notebook-cell:/c%3A/Users/User/Desktop/IDC/year%203/semester%202/machine%20learning/HW/3/hw3/hw3/ProbabilisticModels.ipynb#ch0000031?line=34'>35</a>\u001B[0m \u001B[39mReturns the posterior porbability of the instance under the class according to the dataset distribution.\u001B[39;00m\n\u001B[0;32m     <a href='vscode-notebook-cell:/c%3A/Users/User/Desktop/IDC/year%203/semester%202/machine%20learning/HW/3/hw3/hw3/ProbabilisticModels.ipynb#ch0000031?line=35'>36</a>\u001B[0m \u001B[39m* Ignoring p(x)\u001B[39;00m\n\u001B[0;32m     <a href='vscode-notebook-cell:/c%3A/Users/User/Desktop/IDC/year%203/semester%202/machine%20learning/HW/3/hw3/hw3/ProbabilisticModels.ipynb#ch0000031?line=36'>37</a>\u001B[0m \u001B[39m\"\"\"\u001B[39;00m\n\u001B[0;32m     <a href='vscode-notebook-cell:/c%3A/Users/User/Desktop/IDC/year%203/semester%202/machine%20learning/HW/3/hw3/hw3/ProbabilisticModels.ipynb#ch0000031?line=37'>38</a>\u001B[0m \u001B[39m# TODO: implement\u001B[39;00m\n\u001B[1;32m---> <a href='vscode-notebook-cell:/c%3A/Users/User/Desktop/IDC/year%203/semester%202/machine%20learning/HW/3/hw3/hw3/ProbabilisticModels.ipynb#ch0000031?line=38'>39</a>\u001B[0m \u001B[39mreturn\u001B[39;00m \u001B[39mself\u001B[39m\u001B[39m.\u001B[39mget_prior \u001B[39m*\u001B[39m \u001B[39mself\u001B[39;49m\u001B[39m.\u001B[39;49mget_instance_likelihood(x)\n",
      "\u001B[1;32mc:\\Users\\User\\Desktop\\IDC\\year 3\\semester 2\\machine learning\\HW\\3\\hw3\\hw3\\ProbabilisticModels.ipynb Cell 32'\u001B[0m in \u001B[0;36mMultiNormalClassDistribution.get_instance_likelihood\u001B[1;34m(self, x)\u001B[0m\n\u001B[0;32m     <a href='vscode-notebook-cell:/c%3A/Users/User/Desktop/IDC/year%203/semester%202/machine%20learning/HW/3/hw3/hw3/ProbabilisticModels.ipynb#ch0000031?line=26'>27</a>\u001B[0m \u001B[39m\"\"\"\u001B[39;00m\n\u001B[0;32m     <a href='vscode-notebook-cell:/c%3A/Users/User/Desktop/IDC/year%203/semester%202/machine%20learning/HW/3/hw3/hw3/ProbabilisticModels.ipynb#ch0000031?line=27'>28</a>\u001B[0m \u001B[39mReturns the likelihood of the instance under the class according to the dataset distribution.\u001B[39;00m\n\u001B[0;32m     <a href='vscode-notebook-cell:/c%3A/Users/User/Desktop/IDC/year%203/semester%202/machine%20learning/HW/3/hw3/hw3/ProbabilisticModels.ipynb#ch0000031?line=28'>29</a>\u001B[0m \u001B[39m\"\"\"\u001B[39;00m\n\u001B[0;32m     <a href='vscode-notebook-cell:/c%3A/Users/User/Desktop/IDC/year%203/semester%202/machine%20learning/HW/3/hw3/hw3/ProbabilisticModels.ipynb#ch0000031?line=29'>30</a>\u001B[0m \u001B[39m# TODO: implement\u001B[39;00m\n\u001B[1;32m---> <a href='vscode-notebook-cell:/c%3A/Users/User/Desktop/IDC/year%203/semester%202/machine%20learning/HW/3/hw3/hw3/ProbabilisticModels.ipynb#ch0000031?line=30'>31</a>\u001B[0m \u001B[39mreturn\u001B[39;00m np\u001B[39m.\u001B[39mprod([multi_normal_pdf(x[i], \u001B[39mself\u001B[39m\u001B[39m.\u001B[39mmean[i], \u001B[39mself\u001B[39m\u001B[39m.\u001B[39mcov[i]) \u001B[39mfor\u001B[39;00m i \u001B[39min\u001B[39;00m \u001B[39mrange\u001B[39m(\u001B[39mlen\u001B[39m(x) \u001B[39m-\u001B[39m \u001B[39m1\u001B[39m)])\n",
      "\u001B[1;32mc:\\Users\\User\\Desktop\\IDC\\year 3\\semester 2\\machine learning\\HW\\3\\hw3\\hw3\\ProbabilisticModels.ipynb Cell 32'\u001B[0m in \u001B[0;36m<listcomp>\u001B[1;34m(.0)\u001B[0m\n\u001B[0;32m     <a href='vscode-notebook-cell:/c%3A/Users/User/Desktop/IDC/year%203/semester%202/machine%20learning/HW/3/hw3/hw3/ProbabilisticModels.ipynb#ch0000031?line=26'>27</a>\u001B[0m \u001B[39m\"\"\"\u001B[39;00m\n\u001B[0;32m     <a href='vscode-notebook-cell:/c%3A/Users/User/Desktop/IDC/year%203/semester%202/machine%20learning/HW/3/hw3/hw3/ProbabilisticModels.ipynb#ch0000031?line=27'>28</a>\u001B[0m \u001B[39mReturns the likelihood of the instance under the class according to the dataset distribution.\u001B[39;00m\n\u001B[0;32m     <a href='vscode-notebook-cell:/c%3A/Users/User/Desktop/IDC/year%203/semester%202/machine%20learning/HW/3/hw3/hw3/ProbabilisticModels.ipynb#ch0000031?line=28'>29</a>\u001B[0m \u001B[39m\"\"\"\u001B[39;00m\n\u001B[0;32m     <a href='vscode-notebook-cell:/c%3A/Users/User/Desktop/IDC/year%203/semester%202/machine%20learning/HW/3/hw3/hw3/ProbabilisticModels.ipynb#ch0000031?line=29'>30</a>\u001B[0m \u001B[39m# TODO: implement\u001B[39;00m\n\u001B[1;32m---> <a href='vscode-notebook-cell:/c%3A/Users/User/Desktop/IDC/year%203/semester%202/machine%20learning/HW/3/hw3/hw3/ProbabilisticModels.ipynb#ch0000031?line=30'>31</a>\u001B[0m \u001B[39mreturn\u001B[39;00m np\u001B[39m.\u001B[39mprod([multi_normal_pdf(x[i], \u001B[39mself\u001B[39;49m\u001B[39m.\u001B[39;49mmean[i], \u001B[39mself\u001B[39m\u001B[39m.\u001B[39mcov[i]) \u001B[39mfor\u001B[39;00m i \u001B[39min\u001B[39;00m \u001B[39mrange\u001B[39m(\u001B[39mlen\u001B[39m(x) \u001B[39m-\u001B[39m \u001B[39m1\u001B[39m)])\n",
      "\u001B[1;31mIndexError\u001B[0m: invalid index to scalar variable."
     ]
    }
   ],
   "source": [
    "# Compute the naive model accuracy and store it in the naive accuracy variable.\n",
    "full_accuracy = compute_accuracy(test_set, multi_normal_classifier)\n",
    "full_accuracy"
   ]
  },
  {
   "cell_type": "markdown",
   "metadata": {
    "id": "a_7u-ec397rQ",
    "pycharm": {
     "name": "#%% md\n"
    }
   },
   "source": [
    "## Results"
   ]
  },
  {
   "cell_type": "markdown",
   "metadata": {
    "id": "_XxF0vm797rQ",
    "pycharm": {
     "name": "#%% md\n"
    }
   },
   "source": [
    "Use a plot bar to showcase the models accuracy."
   ]
  },
  {
   "cell_type": "code",
   "execution_count": null,
   "metadata": {
    "colab": {
     "base_uri": "https://localhost:8080/",
     "height": 299
    },
    "executionInfo": {
     "elapsed": 393,
     "status": "ok",
     "timestamp": 1649238258489,
     "user": {
      "displayName": "Yarden Rachamim",
      "userId": "05474227465087296318"
     },
     "user_tz": -180
    },
    "id": "tCi0JFha97rQ",
    "outputId": "d1a6baa6-9149-40e9-af8b-52caff47a5df",
    "pycharm": {
     "name": "#%%\n"
    }
   },
   "outputs": [
    {
     "ename": "TypeError",
     "evalue": "unsupported operand type(s) for +: 'int' and 'NoneType'",
     "output_type": "error",
     "traceback": [
      "\u001B[1;31m---------------------------------------------------------------------------\u001B[0m",
      "\u001B[1;31mTypeError\u001B[0m                                 Traceback (most recent call last)",
      "\u001B[1;32mc:\\Users\\User\\Desktop\\IDC\\year 3\\semester 2\\machine learning\\HW\\3\\hw3\\hw3\\ProbabilisticModels.ipynb Cell 40'\u001B[0m in \u001B[0;36m<cell line: 2>\u001B[1;34m()\u001B[0m\n\u001B[0;32m      <a href='vscode-notebook-cell:/c%3A/Users/User/Desktop/IDC/year%203/semester%202/machine%20learning/HW/3/hw3/hw3/ProbabilisticModels.ipynb#ch0000039?line=0'>1</a>\u001B[0m \u001B[39m# Bar plot of accuracy of each model side by side.\u001B[39;00m\n\u001B[1;32m----> <a href='vscode-notebook-cell:/c%3A/Users/User/Desktop/IDC/year%203/semester%202/machine%20learning/HW/3/hw3/hw3/ProbabilisticModels.ipynb#ch0000039?line=1'>2</a>\u001B[0m plt\u001B[39m.\u001B[39;49mbar(x\u001B[39m=\u001B[39;49m[\u001B[39m'\u001B[39;49m\u001B[39mNaive\u001B[39;49m\u001B[39m'\u001B[39;49m, \u001B[39m'\u001B[39;49m\u001B[39mFull\u001B[39;49m\u001B[39m'\u001B[39;49m], height\u001B[39m=\u001B[39;49m[naive_accuracy, full_accuracy])\n\u001B[0;32m      <a href='vscode-notebook-cell:/c%3A/Users/User/Desktop/IDC/year%203/semester%202/machine%20learning/HW/3/hw3/hw3/ProbabilisticModels.ipynb#ch0000039?line=2'>3</a>\u001B[0m plt\u001B[39m.\u001B[39mtitle(\u001B[39m\"\u001B[39m\u001B[39mNaive vs Full accuracy comparison\u001B[39m\u001B[39m\"\u001B[39m)\n\u001B[0;32m      <a href='vscode-notebook-cell:/c%3A/Users/User/Desktop/IDC/year%203/semester%202/machine%20learning/HW/3/hw3/hw3/ProbabilisticModels.ipynb#ch0000039?line=3'>4</a>\u001B[0m plt\u001B[39m.\u001B[39mylabel(\u001B[39m\"\u001B[39m\u001B[39mAccuracy\u001B[39m\u001B[39m\"\u001B[39m)\n",
      "File \u001B[1;32m~\\anaconda3\\envs\\ML\\lib\\site-packages\\matplotlib\\pyplot.py:2387\u001B[0m, in \u001B[0;36mbar\u001B[1;34m(x, height, width, bottom, align, data, **kwargs)\u001B[0m\n\u001B[0;32m   <a href='file:///c%3A/Users/User/anaconda3/envs/ML/lib/site-packages/matplotlib/pyplot.py?line=2382'>2383</a>\u001B[0m \u001B[39m@_copy_docstring_and_deprecators\u001B[39m(Axes\u001B[39m.\u001B[39mbar)\n\u001B[0;32m   <a href='file:///c%3A/Users/User/anaconda3/envs/ML/lib/site-packages/matplotlib/pyplot.py?line=2383'>2384</a>\u001B[0m \u001B[39mdef\u001B[39;00m \u001B[39mbar\u001B[39m(\n\u001B[0;32m   <a href='file:///c%3A/Users/User/anaconda3/envs/ML/lib/site-packages/matplotlib/pyplot.py?line=2384'>2385</a>\u001B[0m         x, height, width\u001B[39m=\u001B[39m\u001B[39m0.8\u001B[39m, bottom\u001B[39m=\u001B[39m\u001B[39mNone\u001B[39;00m, \u001B[39m*\u001B[39m, align\u001B[39m=\u001B[39m\u001B[39m'\u001B[39m\u001B[39mcenter\u001B[39m\u001B[39m'\u001B[39m,\n\u001B[0;32m   <a href='file:///c%3A/Users/User/anaconda3/envs/ML/lib/site-packages/matplotlib/pyplot.py?line=2385'>2386</a>\u001B[0m         data\u001B[39m=\u001B[39m\u001B[39mNone\u001B[39;00m, \u001B[39m*\u001B[39m\u001B[39m*\u001B[39mkwargs):\n\u001B[1;32m-> <a href='file:///c%3A/Users/User/anaconda3/envs/ML/lib/site-packages/matplotlib/pyplot.py?line=2386'>2387</a>\u001B[0m     \u001B[39mreturn\u001B[39;00m gca()\u001B[39m.\u001B[39mbar(\n\u001B[0;32m   <a href='file:///c%3A/Users/User/anaconda3/envs/ML/lib/site-packages/matplotlib/pyplot.py?line=2387'>2388</a>\u001B[0m         x, height, width\u001B[39m=\u001B[39mwidth, bottom\u001B[39m=\u001B[39mbottom, align\u001B[39m=\u001B[39malign,\n\u001B[0;32m   <a href='file:///c%3A/Users/User/anaconda3/envs/ML/lib/site-packages/matplotlib/pyplot.py?line=2388'>2389</a>\u001B[0m         \u001B[39m*\u001B[39m\u001B[39m*\u001B[39m({\u001B[39m\"\u001B[39m\u001B[39mdata\u001B[39m\u001B[39m\"\u001B[39m: data} \u001B[39mif\u001B[39;00m data \u001B[39mis\u001B[39;00m \u001B[39mnot\u001B[39;00m \u001B[39mNone\u001B[39;00m \u001B[39melse\u001B[39;00m {}), \u001B[39m*\u001B[39m\u001B[39m*\u001B[39mkwargs)\n",
      "File \u001B[1;32m~\\anaconda3\\envs\\ML\\lib\\site-packages\\matplotlib\\__init__.py:1412\u001B[0m, in \u001B[0;36m_preprocess_data.<locals>.inner\u001B[1;34m(ax, data, *args, **kwargs)\u001B[0m\n\u001B[0;32m   <a href='file:///c%3A/Users/User/anaconda3/envs/ML/lib/site-packages/matplotlib/__init__.py?line=1408'>1409</a>\u001B[0m \u001B[39m@functools\u001B[39m\u001B[39m.\u001B[39mwraps(func)\n\u001B[0;32m   <a href='file:///c%3A/Users/User/anaconda3/envs/ML/lib/site-packages/matplotlib/__init__.py?line=1409'>1410</a>\u001B[0m \u001B[39mdef\u001B[39;00m \u001B[39minner\u001B[39m(ax, \u001B[39m*\u001B[39margs, data\u001B[39m=\u001B[39m\u001B[39mNone\u001B[39;00m, \u001B[39m*\u001B[39m\u001B[39m*\u001B[39mkwargs):\n\u001B[0;32m   <a href='file:///c%3A/Users/User/anaconda3/envs/ML/lib/site-packages/matplotlib/__init__.py?line=1410'>1411</a>\u001B[0m     \u001B[39mif\u001B[39;00m data \u001B[39mis\u001B[39;00m \u001B[39mNone\u001B[39;00m:\n\u001B[1;32m-> <a href='file:///c%3A/Users/User/anaconda3/envs/ML/lib/site-packages/matplotlib/__init__.py?line=1411'>1412</a>\u001B[0m         \u001B[39mreturn\u001B[39;00m func(ax, \u001B[39m*\u001B[39m\u001B[39mmap\u001B[39m(sanitize_sequence, args), \u001B[39m*\u001B[39m\u001B[39m*\u001B[39mkwargs)\n\u001B[0;32m   <a href='file:///c%3A/Users/User/anaconda3/envs/ML/lib/site-packages/matplotlib/__init__.py?line=1413'>1414</a>\u001B[0m     bound \u001B[39m=\u001B[39m new_sig\u001B[39m.\u001B[39mbind(ax, \u001B[39m*\u001B[39margs, \u001B[39m*\u001B[39m\u001B[39m*\u001B[39mkwargs)\n\u001B[0;32m   <a href='file:///c%3A/Users/User/anaconda3/envs/ML/lib/site-packages/matplotlib/__init__.py?line=1414'>1415</a>\u001B[0m     auto_label \u001B[39m=\u001B[39m (bound\u001B[39m.\u001B[39marguments\u001B[39m.\u001B[39mget(label_namer)\n\u001B[0;32m   <a href='file:///c%3A/Users/User/anaconda3/envs/ML/lib/site-packages/matplotlib/__init__.py?line=1415'>1416</a>\u001B[0m                   \u001B[39mor\u001B[39;00m bound\u001B[39m.\u001B[39mkwargs\u001B[39m.\u001B[39mget(label_namer))\n",
      "File \u001B[1;32m~\\anaconda3\\envs\\ML\\lib\\site-packages\\matplotlib\\axes\\_axes.py:2395\u001B[0m, in \u001B[0;36mAxes.bar\u001B[1;34m(self, x, height, width, bottom, align, **kwargs)\u001B[0m\n\u001B[0;32m   <a href='file:///c%3A/Users/User/anaconda3/envs/ML/lib/site-packages/matplotlib/axes/_axes.py?line=2391'>2392</a>\u001B[0m args \u001B[39m=\u001B[39m \u001B[39mzip\u001B[39m(left, bottom, width, height, color, edgecolor, linewidth,\n\u001B[0;32m   <a href='file:///c%3A/Users/User/anaconda3/envs/ML/lib/site-packages/matplotlib/axes/_axes.py?line=2392'>2393</a>\u001B[0m            hatch)\n\u001B[0;32m   <a href='file:///c%3A/Users/User/anaconda3/envs/ML/lib/site-packages/matplotlib/axes/_axes.py?line=2393'>2394</a>\u001B[0m \u001B[39mfor\u001B[39;00m l, b, w, h, c, e, lw, htch \u001B[39min\u001B[39;00m args:\n\u001B[1;32m-> <a href='file:///c%3A/Users/User/anaconda3/envs/ML/lib/site-packages/matplotlib/axes/_axes.py?line=2394'>2395</a>\u001B[0m     r \u001B[39m=\u001B[39m mpatches\u001B[39m.\u001B[39;49mRectangle(\n\u001B[0;32m   <a href='file:///c%3A/Users/User/anaconda3/envs/ML/lib/site-packages/matplotlib/axes/_axes.py?line=2395'>2396</a>\u001B[0m         xy\u001B[39m=\u001B[39;49m(l, b), width\u001B[39m=\u001B[39;49mw, height\u001B[39m=\u001B[39;49mh,\n\u001B[0;32m   <a href='file:///c%3A/Users/User/anaconda3/envs/ML/lib/site-packages/matplotlib/axes/_axes.py?line=2396'>2397</a>\u001B[0m         facecolor\u001B[39m=\u001B[39;49mc,\n\u001B[0;32m   <a href='file:///c%3A/Users/User/anaconda3/envs/ML/lib/site-packages/matplotlib/axes/_axes.py?line=2397'>2398</a>\u001B[0m         edgecolor\u001B[39m=\u001B[39;49me,\n\u001B[0;32m   <a href='file:///c%3A/Users/User/anaconda3/envs/ML/lib/site-packages/matplotlib/axes/_axes.py?line=2398'>2399</a>\u001B[0m         linewidth\u001B[39m=\u001B[39;49mlw,\n\u001B[0;32m   <a href='file:///c%3A/Users/User/anaconda3/envs/ML/lib/site-packages/matplotlib/axes/_axes.py?line=2399'>2400</a>\u001B[0m         label\u001B[39m=\u001B[39;49m\u001B[39m'\u001B[39;49m\u001B[39m_nolegend_\u001B[39;49m\u001B[39m'\u001B[39;49m,\n\u001B[0;32m   <a href='file:///c%3A/Users/User/anaconda3/envs/ML/lib/site-packages/matplotlib/axes/_axes.py?line=2400'>2401</a>\u001B[0m         hatch\u001B[39m=\u001B[39;49mhtch,\n\u001B[0;32m   <a href='file:///c%3A/Users/User/anaconda3/envs/ML/lib/site-packages/matplotlib/axes/_axes.py?line=2401'>2402</a>\u001B[0m         )\n\u001B[0;32m   <a href='file:///c%3A/Users/User/anaconda3/envs/ML/lib/site-packages/matplotlib/axes/_axes.py?line=2402'>2403</a>\u001B[0m     r\u001B[39m.\u001B[39mupdate(kwargs)\n\u001B[0;32m   <a href='file:///c%3A/Users/User/anaconda3/envs/ML/lib/site-packages/matplotlib/axes/_axes.py?line=2403'>2404</a>\u001B[0m     r\u001B[39m.\u001B[39mget_path()\u001B[39m.\u001B[39m_interpolation_steps \u001B[39m=\u001B[39m \u001B[39m100\u001B[39m\n",
      "File \u001B[1;32m~\\anaconda3\\envs\\ML\\lib\\site-packages\\matplotlib\\patches.py:733\u001B[0m, in \u001B[0;36mRectangle.__init__\u001B[1;34m(self, xy, width, height, angle, **kwargs)\u001B[0m\n\u001B[0;32m    <a href='file:///c%3A/Users/User/anaconda3/envs/ML/lib/site-packages/matplotlib/patches.py?line=730'>731</a>\u001B[0m \u001B[39mself\u001B[39m\u001B[39m.\u001B[39m_height \u001B[39m=\u001B[39m height\n\u001B[0;32m    <a href='file:///c%3A/Users/User/anaconda3/envs/ML/lib/site-packages/matplotlib/patches.py?line=731'>732</a>\u001B[0m \u001B[39mself\u001B[39m\u001B[39m.\u001B[39mangle \u001B[39m=\u001B[39m \u001B[39mfloat\u001B[39m(angle)\n\u001B[1;32m--> <a href='file:///c%3A/Users/User/anaconda3/envs/ML/lib/site-packages/matplotlib/patches.py?line=732'>733</a>\u001B[0m \u001B[39mself\u001B[39;49m\u001B[39m.\u001B[39;49m_convert_units()\n",
      "File \u001B[1;32m~\\anaconda3\\envs\\ML\\lib\\site-packages\\matplotlib\\patches.py:744\u001B[0m, in \u001B[0;36mRectangle._convert_units\u001B[1;34m(self)\u001B[0m\n\u001B[0;32m    <a href='file:///c%3A/Users/User/anaconda3/envs/ML/lib/site-packages/matplotlib/patches.py?line=741'>742</a>\u001B[0m y0 \u001B[39m=\u001B[39m \u001B[39mself\u001B[39m\u001B[39m.\u001B[39mconvert_yunits(\u001B[39mself\u001B[39m\u001B[39m.\u001B[39m_y0)\n\u001B[0;32m    <a href='file:///c%3A/Users/User/anaconda3/envs/ML/lib/site-packages/matplotlib/patches.py?line=742'>743</a>\u001B[0m x1 \u001B[39m=\u001B[39m \u001B[39mself\u001B[39m\u001B[39m.\u001B[39mconvert_xunits(\u001B[39mself\u001B[39m\u001B[39m.\u001B[39m_x0 \u001B[39m+\u001B[39m \u001B[39mself\u001B[39m\u001B[39m.\u001B[39m_width)\n\u001B[1;32m--> <a href='file:///c%3A/Users/User/anaconda3/envs/ML/lib/site-packages/matplotlib/patches.py?line=743'>744</a>\u001B[0m y1 \u001B[39m=\u001B[39m \u001B[39mself\u001B[39m\u001B[39m.\u001B[39mconvert_yunits(\u001B[39mself\u001B[39;49m\u001B[39m.\u001B[39;49m_y0 \u001B[39m+\u001B[39;49m \u001B[39mself\u001B[39;49m\u001B[39m.\u001B[39;49m_height)\n\u001B[0;32m    <a href='file:///c%3A/Users/User/anaconda3/envs/ML/lib/site-packages/matplotlib/patches.py?line=744'>745</a>\u001B[0m \u001B[39mreturn\u001B[39;00m x0, y0, x1, y1\n",
      "\u001B[1;31mTypeError\u001B[0m: unsupported operand type(s) for +: 'int' and 'NoneType'"
     ]
    },
    {
     "data": {
      "image/png": "[encoded data removed]",
      "text/plain": [
       "<Figure size 432x288 with 1 Axes>"
      ]
     },
     "metadata": {
      "needs_background": "light"
     },
     "output_type": "display_data"
    }
   ],
   "source": [
    "# Bar plot of accuracy of each model side by side.\n",
    "plt.bar(x=['Naive', 'Full'], height=[naive_accuracy, full_accuracy])\n",
    "plt.title(\"Naive vs Full accuracy comparison\")\n",
    "plt.ylabel(\"Accuracy\")"
   ]
  },
  {
   "cell_type": "markdown",
   "metadata": {
    "id": "GUxx4QO697rR",
    "pycharm": {
     "name": "#%% md\n"
    }
   },
   "source": [
    "# Comparing Max a posteriori, prior, and likelihood results"
   ]
  },
  {
   "cell_type": "markdown",
   "metadata": {
    "id": "JvoTqYI397rR",
    "pycharm": {
     "name": "#%% md\n"
    }
   },
   "source": [
    "For each of the classifiers above (naive Bayes and full Bayes, in which we compare posterior probabilities), we explore how classifiers would perform if we compare (1) only prior probabilities or (2) only likelihoods. \n",
    "\n",
    "In this section, you will implement MaxPrior and MaxLikelihood classifiers similarly to MAPClassifier, and then visualize the performance of the three models (MAP, MaxPrior, and MaxLikelihood) for each of the examples of above (naive Bayes and full Bayes).\n",
    "\n",
    "For example, your visualization can be a graph where accuracy is the y-axis, \"MaxPrior\", \"MaxLikelihood\", and \"MAP\" are the x-axis values, and at each x-value, there will be two bars - one for the naive Bayes, and one for the full Bayes.  \n",
    "\n",
    "Other graphs (that make sense / are intuitive) will be accepted as well."
   ]
  },
  {
   "cell_type": "markdown",
   "metadata": {
    "id": "FpIKZphj97rS",
    "pycharm": {
     "name": "#%% md\n"
    }
   },
   "source": [
    "Implement the **MaxPrior** class and build a MaxPrior object like you did above with the **MAPClassifier**."
   ]
  },
  {
   "cell_type": "code",
   "execution_count": null,
   "metadata": {
    "id": "2M5xSt4897rS",
    "pycharm": {
     "name": "#%%\n"
    }
   },
   "outputs": [],
   "source": [
    "class MaxPrior():\n",
    "    def __init__(self, ccd0 , ccd1):\n",
    "        \"\"\"\n",
    "        A Maximum prior classifier. \n",
    "        This class will hold 2 class distributions, one for class 0 and one for class 1, and will predicit an instance\n",
    "        by the class that outputs the highest prior probability for the given instance.\n",
    "    \n",
    "        Input\n",
    "            - ccd0 : An object contating the relevant parameters and methods for the distribution of class 0.\n",
    "            - ccd1 : An object contating the relevant parameters and methods for the distribution of class 1.\n",
    "        \"\"\"\n",
    "        # TODO: implement\n",
    "        pass\n",
    "    \n",
    "    def predict(self, x):\n",
    "        \"\"\"\n",
    "        Predicts the instance class using the 2 distribution objects given in the object constructor.\n",
    "    \n",
    "        Input\n",
    "            - An instance to predict.\n",
    "        Output\n",
    "            - 0 if the posterior probability of class 0 is higher and 1 otherwise.\n",
    "        \"\"\"\n",
    "        # TODO: implement\n",
    "        pass\n"
   ]
  },
  {
   "cell_type": "markdown",
   "metadata": {
    "id": "2jOncByj97rS",
    "pycharm": {
     "name": "#%% md\n"
    }
   },
   "source": [
    "Implement the **MaxLikelihood** class and build a MaxLikelihood object like you did above with the **MAPClassifier**."
   ]
  },
  {
   "cell_type": "code",
   "execution_count": null,
   "metadata": {
    "id": "uk7culTl97rT",
    "pycharm": {
     "name": "#%%\n"
    }
   },
   "outputs": [],
   "source": [
    "class MaxLikelihood():\n",
    "    def __init__(self, ccd0 , ccd1):\n",
    "        \"\"\"\n",
    "        A Maximum Likelihood classifier. \n",
    "        This class will hold 2 class distributions, one for class 0 and one for class 1, and will predicit an instance\n",
    "        by the class that outputs the highest likelihood probability for the given instance.\n",
    "    \n",
    "        Input\n",
    "            - ccd0 : An object contating the relevant parameters and methods for the distribution of class 0.\n",
    "            - ccd1 : An object contating the relevant parameters and methods for the distribution of class 1.\n",
    "        \"\"\"\n",
    "        # TODO: implement\n",
    "        pass\n",
    "    \n",
    "    def predict(self, x):\n",
    "        \"\"\"\n",
    "        Predicts the instance class using the 2 distribution objects given in the object constructor.\n",
    "    \n",
    "        Input\n",
    "            - An instance to predict.\n",
    "        Output\n",
    "            - 0 if the posterior probability of class 0 is higher and 1 otherwise.\n",
    "        \"\"\"\n",
    "        # TODO: implement\n",
    "        pass"
   ]
  },
  {
   "cell_type": "markdown",
   "metadata": {
    "id": "H2r0piw097rT",
    "pycharm": {
     "name": "#%% md\n"
    }
   },
   "source": [
    "### Run and evaluate the models"
   ]
  },
  {
   "cell_type": "markdown",
   "metadata": {
    "id": "KpKqIqTy97rU",
    "pycharm": {
     "name": "#%% md\n"
    }
   },
   "source": [
    "Repeat the process you did for the MAPClassifier, now for the MaxPrior and MaxLikelihood classifiers:\n",
    "1. Feed the naive_normal distributions and the multi_normal distributions you made for each class into the new models you made in this section\n",
    "2. Evaluate the accuracies\n",
    "3. Plot the results as described in the beginning of this section"
   ]
  },
  {
   "cell_type": "code",
   "execution_count": null,
   "metadata": {
    "id": "o7zQccmN97rV",
    "pycharm": {
     "name": "#%%\n"
    }
   },
   "outputs": [],
   "source": [
    "###############################\n",
    "####### YOUR CODE HERE ########\n",
    "# you may add cells as needed #\n",
    "###############################"
   ]
  },
  {
   "cell_type": "markdown",
   "metadata": {
    "id": "2TWhBD4997rV",
    "pycharm": {
     "name": "#%% md\n"
    }
   },
   "source": [
    "# Discrete Naive Bayes Classifier "
   ]
  },
  {
   "cell_type": "markdown",
   "metadata": {
    "id": "UKakgRD797rV",
    "pycharm": {
     "name": "#%% md\n"
    }
   },
   "source": [
    "We will now build a discrete naive Bayes based classifier using **Laplace** smoothing.\n",
    "In the recitation, we saw how to compute the probability for each attribute value under each class:"
   ]
  },
  {
   "cell_type": "markdown",
   "metadata": {
    "id": "fNv3VdNY97rW",
    "pycharm": {
     "name": "#%% md\n"
    }
   },
   "source": [
    "$$ P(x_j | A_i) = \\frac{n_{ij} + 1}{n_i + |V_j|} $$\n",
    "Where:\n",
    "* $n_{ij}$ The number of training instances with the class $A_i$ and the value $x_j$ in the relevant attribute.\n",
    "* $n_i$ The number of training instances with the class $A_i$\n",
    "* $|V_j|$ The number of possible values of the relevant attribute.\n",
    "\n",
    "In order to compute the likelihood we assume:\n",
    "$$ P(x| A_i) = \\prod\\limits_{j=1}^{n}P(x_j|A_i) $$\n",
    "\n",
    "And to classify an instance we will choose : \n",
    "$$\\arg\\!\\max\\limits_{i} P(A_i) \\cdot P(x | A_i)$$\n"
   ]
  },
  {
   "cell_type": "markdown",
   "metadata": {
    "id": "95Y9WEKO97rW",
    "pycharm": {
     "name": "#%% md\n"
    }
   },
   "source": [
    "## Data\n",
    "We will try to predict breast cancer again only this time from a different dataset, \n",
    "<br> you can read about the dataset here : [Breast Cancer Dataset](https://archive.ics.uci.edu/ml/datasets/breast+cancer)<br>\n",
    "Load the training set and test set provided for you in the data folder.\n",
    " - breast_trainset.csv\n",
    " - breast_testset.csv\n",
    " "
   ]
  },
  {
   "cell_type": "code",
   "execution_count": null,
   "metadata": {
    "id": "Ldj_5a3d97rX",
    "pycharm": {
     "name": "#%%\n"
    }
   },
   "outputs": [],
   "source": [
    "# Load the train and test set into a pandas dataframe and convert them into a numpy array.\n",
    "train_set = pd.read_csv('data/breast_trainset.csv').values\n",
    "test_set = pd.read_csv('data/breast_testset.csv').values"
   ]
  },
  {
   "cell_type": "markdown",
   "metadata": {
    "id": "TXzx4U0097rX",
    "pycharm": {
     "name": "#%% md\n"
    }
   },
   "source": [
    "## Build A Discrete Naive Bayes Distribution for each class\n",
    "Implement the **DiscreteNBClassDistribution** in the next cell and build a distribution object for each class."
   ]
  },
  {
   "cell_type": "code",
   "execution_count": null,
   "metadata": {
    "id": "hS-DkveU97rX",
    "pycharm": {
     "name": "#%%\n"
    }
   },
   "outputs": [],
   "source": [
    "EPSILLON = 1e-6 # if a certain value only occurs in the test set, the probability for that value will be EPSILLON.\n",
    "\n",
    "class DiscreteNBClassDistribution():\n",
    "    def __init__(self, dataset, class_value):\n",
    "        \"\"\"\n",
    "        A class which computes and encapsulate the relevant probabilites for a discrete naive bayes \n",
    "        distribution for a specific class. The probabilites are computed with laplace smoothing.\n",
    "        \n",
    "        Input\n",
    "        - dataset: The dataset as a numpy array.\n",
    "        - class_value: Compute the relevant parameters only for instances from the given class.\n",
    "        \"\"\"\n",
    "        # TODO: implement\n",
    "        pass\n",
    "    \n",
    "    def get_prior(self):\n",
    "        \"\"\"\n",
    "        Returns the prior porbability of the class according to the dataset distribution.\n",
    "        \"\"\"\n",
    "        # TODO: implement\n",
    "        pass\n",
    "    \n",
    "    def get_instance_likelihood(self, x):\n",
    "        \"\"\"\n",
    "        Returns the likelihood of the instance under the class according to the dataset distribution.\n",
    "        \"\"\"\n",
    "        # TODO: implement\n",
    "        pass\n",
    "    \n",
    "    def get_instance_posterior(self, x):\n",
    "        \"\"\"\n",
    "        Returns the posterior porbability of the instance under the class according to the dataset distribution.\n",
    "        * Ignoring p(x)\n",
    "        \"\"\"\n",
    "        # TODO: implement\n",
    "        pass"
   ]
  },
  {
   "cell_type": "code",
   "execution_count": null,
   "metadata": {
    "id": "uiJVXw5h97rY",
    "pycharm": {
     "name": "#%%\n"
    }
   },
   "outputs": [],
   "source": [
    "discrete_naive_CD_0 = DiscreteNBClassDistribution(train_set, 0)\n",
    "discrete_naive_CD_1 = DiscreteNBClassDistribution(train_set, 1)"
   ]
  },
  {
   "cell_type": "markdown",
   "metadata": {
    "id": "c7Zfpdyt97rY",
    "pycharm": {
     "name": "#%% md\n"
    }
   },
   "source": [
    "build a MAPClassifier object contating the 2 distribution objects you just made above."
   ]
  },
  {
   "cell_type": "code",
   "execution_count": null,
   "metadata": {
    "id": "R46vXMqS97rZ",
    "pycharm": {
     "name": "#%%\n"
    }
   },
   "outputs": [],
   "source": [
    "discrete_naive_classifier = MAPClassifier(discrete_naive_CD_0, discrete_naive_CD_1)"
   ]
  },
  {
   "cell_type": "markdown",
   "metadata": {
    "id": "bKtJw1Ty97rZ",
    "pycharm": {
     "name": "#%% md\n"
    }
   },
   "source": [
    "Use the **compute_accuracy** function and the 2 distribution objects you created to compute the accuracy on the test set."
   ]
  },
  {
   "cell_type": "code",
   "execution_count": null,
   "metadata": {
    "id": "mxwH3d4Z97rZ",
    "pycharm": {
     "name": "#%%\n"
    }
   },
   "outputs": [],
   "source": [
    "compute_accuracy(test_set, discrete_naive_classifier)"
   ]
  }
 ],
 "metadata": {
  "colab": {
   "collapsed_sections": [],
   "name": "ProbabilisticModels.ipynb",
   "provenance": [
    {
     "file_id": "1bCEDw-NC2JWZstuBhGlo7VcB188Ft2K5",
     "timestamp": 1649263512426
    }
   ]
  },
  "kernelspec": {
   "display_name": "Python 3",
   "language": "python",
   "name": "python3"
  },
  "language_info": {
   "codemirror_mode": {
    "name": "ipython",
    "version": 3
   },
   "file_extension": ".py",
   "mimetype": "text/x-python",
   "name": "python",
   "nbconvert_exporter": "python",
   "pygments_lexer": "ipython3",
   "version": "3.9.7"
  }
 },
 "nbformat": 4,
 "nbformat_minor": 1
}